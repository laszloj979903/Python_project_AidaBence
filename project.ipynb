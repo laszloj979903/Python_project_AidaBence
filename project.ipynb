{
 "cells": [
  {
   "cell_type": "code",
   "execution_count": 3,
   "id": "2ce92f7f-7e95-4a72-bdb7-db1249233b7f",
   "metadata": {},
   "outputs": [
    {
     "name": "stderr",
     "output_type": "stream",
     "text": [
      "[nltk_data] Downloading package vader_lexicon to\n",
      "[nltk_data]     C:\\Users\\Korisnik\\AppData\\Roaming\\nltk_data...\n",
      "[nltk_data]   Package vader_lexicon is already up-to-date!\n",
      "c:\\Users\\Korisnik\\anaconda3\\New folder\\envs\\python_class_env\\Lib\\site-packages\\tqdm\\auto.py:21: TqdmWarning: IProgress not found. Please update jupyter and ipywidgets. See https://ipywidgets.readthedocs.io/en/stable/user_install.html\n",
      "  from .autonotebook import tqdm as notebook_tqdm\n"
     ]
    }
   ],
   "source": [
    "#Loading necessary packages\n",
    "#pip install nltk==3.6.2 \n",
    "import requests\n",
    "import pandas as pd\n",
    "import datetime\n",
    "import time\n",
    "import random\n",
    "import nltk\n",
    "from tqdm import tqdm\n",
    "from finvader import finvader\n",
    "from transformers import pipeline\n",
    "from wordcloud import WordCloud\n",
    "import matplotlib.pyplot as plt"
   ]
  },
  {
   "cell_type": "code",
   "execution_count": 4,
   "id": "651a2e8d",
   "metadata": {},
   "outputs": [],
   "source": [
    "import script"
   ]
  },
  {
   "cell_type": "code",
   "execution_count": 12,
   "id": "8ed42de1",
   "metadata": {},
   "outputs": [],
   "source": [
    "# Configuration\n",
    "api_key = 'OTl2SM9_8xGEkqop_pj57cYyS4gjsurl'\n",
    "news_url = \"https://api.polygon.io/v2/reference/news\"  "
   ]
  },
  {
   "cell_type": "code",
   "execution_count": 1,
   "id": "1b58908f",
   "metadata": {},
   "outputs": [],
   "source": [
    "#user input\n",
    "ticker = input(\"Enter the stock ticker symbol (e.g., BA): \").strip().upper()\n",
    "if not ticker:\n",
    "    print(\"No ticker entered. Try again.\")\n",
    "    exit()\n",
    "\n",
    "date_choice = input(\n",
    "    \"Choose the date range by typing in a corresponding number:\\n\"\n",
    "    \"1. Last day\\n\"\n",
    "    \"2. Last week\\n\"\n",
    "    \"3. Last month\\n\"\n",
    "    \"Enter your choice (1, 2, or 3): \").strip()"
   ]
  },
  {
   "cell_type": "code",
   "execution_count": 5,
   "id": "32bdd8ef",
   "metadata": {},
   "outputs": [
    {
     "name": "stdout",
     "output_type": "stream",
     "text": [
      "Start Date: 2024-12-11, End Date: 2025-01-10\n"
     ]
    }
   ],
   "source": [
    "today = datetime.date.today()\n",
    "\n",
    "if date_choice == \"1\":\n",
    "    start_date = (today - datetime.timedelta(days=1)).strftime(\"%Y-%m-%d\")\n",
    "    end_date = today.strftime(\"%Y-%m-%d\")\n",
    "elif date_choice == \"2\":\n",
    "    start_date = (today - datetime.timedelta(days=7)).strftime(\"%Y-%m-%d\")\n",
    "    end_date = today.strftime(\"%Y-%m-%d\")\n",
    "elif date_choice == \"3\":\n",
    "    start_date = (today - datetime.timedelta(days=30)).strftime(\"%Y-%m-%d\")\n",
    "    end_date = today.strftime(\"%Y-%m-%d\")\n",
    "else:\n",
    "    print(\"Invalid choice. We will default to previous month.\")\n",
    "    start_date = (today - datetime.timedelta(days=30)).strftime(\"%Y-%m-%d\")\n",
    "    end_date = today.strftime(\"%Y-%m-%d\")\n",
    "    \n",
    "print(f\"Start Date: {start_date}, End Date: {end_date}\")\n"
   ]
  },
  {
   "cell_type": "code",
   "execution_count": 7,
   "id": "e075fcec",
   "metadata": {},
   "outputs": [],
   "source": [
    "def generate_weekly_intervals(start_date, end_date):\n",
    "    \"\"\"\n",
    "    Generates weekly date intervals within the specified date range.\n",
    "    \"\"\"\n",
    "    intervals = []\n",
    "    current_end_date = datetime.datetime.strptime(end_date, \"%Y-%m-%d\")\n",
    "    current_start_date = datetime.datetime.strptime(start_date, \"%Y-%m-%d\")\n",
    "    \n",
    "    while current_end_date > current_start_date:\n",
    "        week_start_date = max(current_start_date, current_end_date - datetime.timedelta(days=6))\n",
    "        intervals.append((week_start_date.strftime(\"%Y-%m-%d\"), current_end_date.strftime(\"%Y-%m-%d\")))\n",
    "        current_end_date -= datetime.timedelta(days=7)\n",
    "    \n",
    "    return intervals"
   ]
  },
  {
   "cell_type": "code",
   "execution_count": null,
   "id": "fdc279df",
   "metadata": {},
   "outputs": [],
   "source": [
    "all_news = []\n",
    "fetch_intervals = generate_weekly_intervals(start_date, end_date)"
   ]
  },
  {
   "cell_type": "code",
   "execution_count": null,
   "id": "0e67488b",
   "metadata": {},
   "outputs": [],
   "source": [
    "#Below is code if we were not using dynamic dates but a fixed month and predefined list of stock tickers for which news is available\n",
    "#tickers = [\"JNJ\", \"JPM\", \"XOM\", \"AAPL\",\"ABBV\", \"NKE\",\"TSLA\",\"MCD\",\"BA\"]\n",
    "#start_date = \"2024-11-30\"\n",
    "#end_date = \"2024-12-31\"\n",
    "#today = datetime.date.today()\n",
    "#start_date = (today - datetime.timedelta(days=30)).strftime(\"%Y-%m-%d\")\n",
    "#end_date = today.strftime(\"%Y-%m-%d\")\n",
    "\n",
    "#all_news = []\n",
    "# fetch news in weekly intervals\n",
    "#fetch_intervals = generate_weekly_intervals(start_date, end_date)"
   ]
  },
  {
   "cell_type": "code",
   "execution_count": 10,
   "id": "f25dcc5b",
   "metadata": {},
   "outputs": [],
   "source": [
    "def get_news(ticker, start_date, end_date, api_key, news_url, limit=100):\n",
    "    \"\"\"\n",
    "    Fetch news for a ticker within a given date range.\n",
    "    \"\"\"\n",
    "    params = {\n",
    "        \"ticker\": ticker,\n",
    "        \"published_utc.gte\": start_date,\n",
    "        \"published_utc.lte\": end_date,\n",
    "        \"limit\": limit,\n",
    "        \"apiKey\": api_key\n",
    "    }\n",
    "    time.sleep(random.uniform(1, 2))  # Shorter sleep for testing/debugging\n",
    "    \n",
    "    response = requests.get(news_url, params=params)\n",
    "    if response.status_code == 200:\n",
    "        data = response.json()\n",
    "        return data.get(\"results\", [])\n",
    "    else:\n",
    "        print(f\"Failed to get news: {response.status_code} - {response.text}\")\n",
    "        return []"
   ]
  },
  {
   "cell_type": "code",
   "execution_count": 13,
   "id": "70bce901",
   "metadata": {},
   "outputs": [
    {
     "name": "stderr",
     "output_type": "stream",
     "text": [
      "Fetching news intervals: 100%|██████████| 5/5 [00:08<00:00,  1.61s/it]\n"
     ]
    }
   ],
   "source": [
    "for week_start, week_end in tqdm(fetch_intervals, desc=\"Fetching news intervals\"):\n",
    "    try:\n",
    "        weekly_news = get_news(ticker, week_start, week_end, api_key, news_url, limit=100)\n",
    "        if not weekly_news:\n",
    "            continue\n",
    "        for article in weekly_news:\n",
    "            article['ticker'] = ticker\n",
    "        all_news.extend(weekly_news)\n",
    "    except Exception as e:\n",
    "        print(f\"Error in accessing news for {ticker} from {week_start} to {week_end}: {e}\")"
   ]
  },
  {
   "cell_type": "code",
   "execution_count": null,
   "id": "cd29dc21",
   "metadata": {},
   "outputs": [],
   "source": [
    "news_df = pd.DataFrame(all_news)\n",
    "news_df.head()"
   ]
  },
  {
   "cell_type": "code",
   "execution_count": 22,
   "id": "0dc6a641",
   "metadata": {},
   "outputs": [],
   "source": [
    "news_df = news_df.drop(columns=['id', 'image_url', 'author', 'amp_url'], errors='ignore')\n",
    "news_df = news_df.drop_duplicates(subset=['title', 'published_utc', 'ticker'])\n",
    "news_df = news_df.dropna(subset=['published_utc'])  # Drop rows with invalid dates"
   ]
  },
  {
   "cell_type": "code",
   "execution_count": null,
   "id": "0c6627eb",
   "metadata": {},
   "outputs": [],
   "source": [
    "if news_df.empty:\n",
    "    print(\"No news articles with valid dates available for the selected ticker and date range.\")\n",
    "else:\n",
    "    print(\"News articles fetched and processed successfully.\")"
   ]
  },
  {
   "cell_type": "code",
   "execution_count": null,
   "id": "daf5ae58",
   "metadata": {},
   "outputs": [],
   "source": [
    "news_df = pd.DataFrame(all_news)\n",
    "news_df = news_df.drop(columns=['id', 'image_url', 'author', 'amp_url'], errors='ignore')\n",
    "news_df['published_utc'] = pd.to_datetime(news_df['published_utc'], errors='coerce')\n",
    "#news_df['published_utc'] = news_df['published_utc'].dt.date\n",
    "news_df = news_df.drop_duplicates(subset=['title', 'published_utc', 'ticker'])\n",
    "news_df = news_df.dropna(subset=['published_utc'])  # Drop rows with invalid dates"
   ]
  },
  {
   "cell_type": "code",
   "execution_count": null,
   "id": "c413f143",
   "metadata": {},
   "outputs": [],
   "source": [
    "news_df.head()"
   ]
  },
  {
   "cell_type": "code",
   "execution_count": null,
   "id": "6429cc61",
   "metadata": {},
   "outputs": [],
   "source": [
    "#FinVADER sentiment analysis\n",
    "news_df['finvader_compound'] = news_df['title'].apply(analyze_sentiment_finvader)"
   ]
  },
  {
   "cell_type": "code",
   "execution_count": null,
   "id": "1a18dbb0",
   "metadata": {},
   "outputs": [],
   "source": [
    "daily_sentiment, weekly_sentiment, monthly_sentiment = aggregate_sentiment(news_df)"
   ]
  },
  {
   "cell_type": "code",
   "execution_count": 57,
   "id": "1c6219dc",
   "metadata": {},
   "outputs": [],
   "source": [
    "# Save to CSV\n",
    "news_df.to_csv(\"news_data_with_finvader_sentiment.csv\", index=False)\n",
    "daily_sentiment.to_csv(\"daily_sentiment.csv\", index=False)\n",
    "weekly_sentiment.to_csv(\"weekly_sentiment.csv\", index=False)\n",
    "monthly_sentiment.to_csv(\"monthly_sentiment.csv\", index=False)\n"
   ]
  }
 ],
 "metadata": {
  "kernelspec": {
   "display_name": "python_class_env",
   "language": "python",
   "name": "python3"
  },
  "language_info": {
   "codemirror_mode": {
    "name": "ipython",
    "version": 3
   },
   "file_extension": ".py",
   "mimetype": "text/x-python",
   "name": "python",
   "nbconvert_exporter": "python",
   "pygments_lexer": "ipython3",
   "version": "3.12.4"
  }
 },
 "nbformat": 4,
 "nbformat_minor": 5
}
